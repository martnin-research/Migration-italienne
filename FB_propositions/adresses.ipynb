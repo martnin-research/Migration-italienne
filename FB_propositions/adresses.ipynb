{
 "cells": [
  {
   "cell_type": "code",
   "execution_count": 2,
   "id": "798d4d8a",
   "metadata": {},
   "outputs": [],
   "source": [
    "\n",
    "\n",
    "import pandas as pd\n",
    "import geopandas as gpd\n",
    "# from shapely.geometry import LineString\n",
    "#from geopandas.tools import sjoin\n",
    "#from geodatasets import get_path\n",
    "\n"
   ]
  },
  {
   "cell_type": "code",
   "execution_count": 6,
   "id": "1faa6a49",
   "metadata": {},
   "outputs": [],
   "source": [
    "import matplotlib.pyplot as plt\n",
    "import matplotlib.patches as patches\n",
    "\n",
    "\n",
    "import plotly.express as px\n",
    "\n",
    "import numpy as np\n",
    "import seaborn as sns\n",
    "import math\n",
    "import os\n",
    "\n",
    "### Librairies déjà installées avec Python\n",
    "import pprint\n",
    "import csv\n",
    "\n",
    "\n",
    "from shutil import copyfile\n",
    "\n"
   ]
  },
  {
   "cell_type": "code",
   "execution_count": 7,
   "id": "eb5c62e1",
   "metadata": {},
   "outputs": [],
   "source": [
    "from osgeo import gdal\n",
    "gdal.SetConfigOption('SHAPE_RESTORE_SHX', 'YES')"
   ]
  },
  {
   "cell_type": "code",
   "execution_count": 4,
   "id": "43cc890a",
   "metadata": {},
   "outputs": [
    {
     "name": "stdout",
     "output_type": "stream",
     "text": [
      "180\n"
     ]
    },
    {
     "data": {
      "text/html": [
       "<div>\n",
       "<style scoped>\n",
       "    .dataframe tbody tr th:only-of-type {\n",
       "        vertical-align: middle;\n",
       "    }\n",
       "\n",
       "    .dataframe tbody tr th {\n",
       "        vertical-align: top;\n",
       "    }\n",
       "\n",
       "    .dataframe thead th {\n",
       "        text-align: right;\n",
       "    }\n",
       "</style>\n",
       "<table border=\"1\" class=\"dataframe\">\n",
       "  <thead>\n",
       "    <tr style=\"text-align: right;\">\n",
       "      <th></th>\n",
       "      <th>pkuid</th>\n",
       "      <th>id</th>\n",
       "      <th>nom rue</th>\n",
       "      <th>numero</th>\n",
       "      <th>proprietai</th>\n",
       "      <th>note</th>\n",
       "      <th>geometry</th>\n",
       "    </tr>\n",
       "  </thead>\n",
       "  <tbody>\n",
       "    <tr>\n",
       "      <th>0</th>\n",
       "      <td>1</td>\n",
       "      <td>NaN</td>\n",
       "      <td>Grand Rue</td>\n",
       "      <td>28</td>\n",
       "      <td>None</td>\n",
       "      <td>plan 1841</td>\n",
       "      <td>POINT (6.82917 47.10291)</td>\n",
       "    </tr>\n",
       "    <tr>\n",
       "      <th>1</th>\n",
       "      <td>2</td>\n",
       "      <td>NaN</td>\n",
       "      <td>Grand Rue</td>\n",
       "      <td>18</td>\n",
       "      <td>None</td>\n",
       "      <td>Tosetti : proprietaire ? italien qui auberge d...</td>\n",
       "      <td>POINT (6.83081 47.10346)</td>\n",
       "    </tr>\n",
       "    <tr>\n",
       "      <th>2</th>\n",
       "      <td>3</td>\n",
       "      <td>NaN</td>\n",
       "      <td>Grand Rue</td>\n",
       "      <td>6</td>\n",
       "      <td>None</td>\n",
       "      <td>Sacchi : proprietaire ? italien qui auberge d'...</td>\n",
       "      <td>POINT (6.83151 47.1031)</td>\n",
       "    </tr>\n",
       "    <tr>\n",
       "      <th>3</th>\n",
       "      <td>4</td>\n",
       "      <td>NaN</td>\n",
       "      <td>Grand Rue</td>\n",
       "      <td>48</td>\n",
       "      <td>None</td>\n",
       "      <td>plan 1841</td>\n",
       "      <td>POINT (6.82738 47.10158)</td>\n",
       "    </tr>\n",
       "    <tr>\n",
       "      <th>4</th>\n",
       "      <td>5</td>\n",
       "      <td>NaN</td>\n",
       "      <td>Grand Rue</td>\n",
       "      <td>135</td>\n",
       "      <td>None</td>\n",
       "      <td>plan 1841</td>\n",
       "      <td>POINT (6.83003 47.10248)</td>\n",
       "    </tr>\n",
       "  </tbody>\n",
       "</table>\n",
       "</div>"
      ],
      "text/plain": [
       "   pkuid  id    nom rue numero proprietai  \\\n",
       "0      1 NaN  Grand Rue     28       None   \n",
       "1      2 NaN  Grand Rue     18       None   \n",
       "2      3 NaN  Grand Rue      6       None   \n",
       "3      4 NaN  Grand Rue     48       None   \n",
       "4      5 NaN  Grand Rue    135       None   \n",
       "\n",
       "                                                note                  geometry  \n",
       "0                                          plan 1841  POINT (6.82917 47.10291)  \n",
       "1  Tosetti : proprietaire ? italien qui auberge d...  POINT (6.83081 47.10346)  \n",
       "2  Sacchi : proprietaire ? italien qui auberge d'...   POINT (6.83151 47.1031)  \n",
       "3                                          plan 1841  POINT (6.82738 47.10158)  \n",
       "4                                          plan 1841  POINT (6.83003 47.10248)  "
      ]
     },
     "execution_count": 4,
     "metadata": {},
     "output_type": "execute_result"
    }
   ],
   "source": [
    "adresses_filepath = 'spatial_data/adresses_avec_attributs/adresses_avec_attributs.shp'\n",
    "adresses = gpd.read_file(adresses_filepath)\n",
    "print(len(adresses))\n",
    "adresses.head()\n"
   ]
  },
  {
   "cell_type": "code",
   "execution_count": 5,
   "id": "01a97d1e",
   "metadata": {},
   "outputs": [],
   "source": [
    "adresses_filepath = 'spatial_data/adresses_avec_attributs/adresses_avec_attributs.csv'\n",
    "adresses.to_csv(adresses_filepath)"
   ]
  },
  {
   "cell_type": "code",
   "execution_count": null,
   "id": "fe69cc0e",
   "metadata": {},
   "outputs": [],
   "source": []
  },
  {
   "cell_type": "code",
   "execution_count": null,
   "id": "3b7f9626",
   "metadata": {},
   "outputs": [],
   "source": []
  },
  {
   "cell_type": "code",
   "execution_count": 8,
   "id": "d4fb70d5",
   "metadata": {},
   "outputs": [
    {
     "name": "stdout",
     "output_type": "stream",
     "text": [
      "45\n"
     ]
    },
    {
     "data": {
      "text/html": [
       "<div>\n",
       "<style scoped>\n",
       "    .dataframe tbody tr th:only-of-type {\n",
       "        vertical-align: middle;\n",
       "    }\n",
       "\n",
       "    .dataframe tbody tr th {\n",
       "        vertical-align: top;\n",
       "    }\n",
       "\n",
       "    .dataframe thead th {\n",
       "        text-align: right;\n",
       "    }\n",
       "</style>\n",
       "<table border=\"1\" class=\"dataframe\">\n",
       "  <thead>\n",
       "    <tr style=\"text-align: right;\">\n",
       "      <th></th>\n",
       "      <th>nom_rue_co</th>\n",
       "      <th>numeros</th>\n",
       "      <th>points</th>\n",
       "      <th>geometry</th>\n",
       "    </tr>\n",
       "  </thead>\n",
       "  <tbody>\n",
       "    <tr>\n",
       "      <th>0</th>\n",
       "      <td>Boulevard de la Citadelle</td>\n",
       "      <td>11,5</td>\n",
       "      <td>2</td>\n",
       "      <td>LINESTRING (6.83084 47.10828, 6.83104 47.10865)</td>\n",
       "    </tr>\n",
       "    <tr>\n",
       "      <th>1</th>\n",
       "      <td>Fleur de lys</td>\n",
       "      <td>None</td>\n",
       "      <td>1</td>\n",
       "      <td>LINESTRING (6.83034 47.10262, 6.83054 47.10282)</td>\n",
       "    </tr>\n",
       "    <tr>\n",
       "      <th>2</th>\n",
       "      <td>Grand Rue</td>\n",
       "      <td>58,51,48,29,28,135,18,6,5</td>\n",
       "      <td>9</td>\n",
       "      <td>LINESTRING (6.82601 47.10045, 6.8314 47.10348)</td>\n",
       "    </tr>\n",
       "    <tr>\n",
       "      <th>3</th>\n",
       "      <td>Place Hotel de Ville</td>\n",
       "      <td>5,6</td>\n",
       "      <td>2</td>\n",
       "      <td>LINESTRING (6.83221 47.10338, 6.83237 47.10345)</td>\n",
       "    </tr>\n",
       "    <tr>\n",
       "      <th>4</th>\n",
       "      <td>Place Neuve</td>\n",
       "      <td>10,8,2,2</td>\n",
       "      <td>4</td>\n",
       "      <td>LINESTRING (6.83072 47.10362, 6.83167 47.10405)</td>\n",
       "    </tr>\n",
       "  </tbody>\n",
       "</table>\n",
       "</div>"
      ],
      "text/plain": [
       "                  nom_rue_co                    numeros  points  \\\n",
       "0  Boulevard de la Citadelle                       11,5       2   \n",
       "1               Fleur de lys                       None       1   \n",
       "2                  Grand Rue  58,51,48,29,28,135,18,6,5       9   \n",
       "3       Place Hotel de Ville                        5,6       2   \n",
       "4                Place Neuve                   10,8,2,2       4   \n",
       "\n",
       "                                          geometry  \n",
       "0  LINESTRING (6.83084 47.10828, 6.83104 47.10865)  \n",
       "1  LINESTRING (6.83034 47.10262, 6.83054 47.10282)  \n",
       "2   LINESTRING (6.82601 47.10045, 6.8314 47.10348)  \n",
       "3  LINESTRING (6.83221 47.10338, 6.83237 47.10345)  \n",
       "4  LINESTRING (6.83072 47.10362, 6.83167 47.10405)  "
      ]
     },
     "execution_count": 8,
     "metadata": {},
     "output_type": "execute_result"
    }
   ],
   "source": [
    "rues_filepath = 'spatial_data/rues/rues_simplified_and_modified.shp'\n",
    "rues = gpd.read_file(rues_filepath)\n",
    "print(len(rues))\n",
    "rues.head()\n"
   ]
  },
  {
   "cell_type": "code",
   "execution_count": 9,
   "id": "c7150ca8",
   "metadata": {},
   "outputs": [],
   "source": [
    "rues_filepath = 'spatial_data/rues/rues_simplified_and_modified.csv'\n",
    "rues.to_csv(rues_filepath)"
   ]
  },
  {
   "cell_type": "code",
   "execution_count": 11,
   "id": "9e3cb117",
   "metadata": {},
   "outputs": [
    {
     "data": {
      "text/html": [
       "<div>\n",
       "<style scoped>\n",
       "    .dataframe tbody tr th:only-of-type {\n",
       "        vertical-align: middle;\n",
       "    }\n",
       "\n",
       "    .dataframe tbody tr th {\n",
       "        vertical-align: top;\n",
       "    }\n",
       "\n",
       "    .dataframe thead th {\n",
       "        text-align: right;\n",
       "    }\n",
       "</style>\n",
       "<table border=\"1\" class=\"dataframe\">\n",
       "  <thead>\n",
       "    <tr style=\"text-align: right;\">\n",
       "      <th></th>\n",
       "      <th>geometry</th>\n",
       "    </tr>\n",
       "  </thead>\n",
       "  <tbody>\n",
       "    <tr>\n",
       "      <th>0</th>\n",
       "      <td>POINT (335281.292 5218886.527)</td>\n",
       "    </tr>\n",
       "    <tr>\n",
       "      <th>1</th>\n",
       "      <td>POINT (335407.86 5218944.657)</td>\n",
       "    </tr>\n",
       "    <tr>\n",
       "      <th>2</th>\n",
       "      <td>POINT (335459.692 5218903.317)</td>\n",
       "    </tr>\n",
       "    <tr>\n",
       "      <th>3</th>\n",
       "      <td>POINT (335141.124 5218743.25)</td>\n",
       "    </tr>\n",
       "    <tr>\n",
       "      <th>4</th>\n",
       "      <td>POINT (335345.672 5218836.909)</td>\n",
       "    </tr>\n",
       "  </tbody>\n",
       "</table>\n",
       "</div>"
      ],
      "text/plain": [
       "                         geometry\n",
       "0  POINT (335281.292 5218886.527)\n",
       "1   POINT (335407.86 5218944.657)\n",
       "2  POINT (335459.692 5218903.317)\n",
       "3   POINT (335141.124 5218743.25)\n",
       "4  POINT (335345.672 5218836.909)"
      ]
     },
     "execution_count": 11,
     "metadata": {},
     "output_type": "execute_result"
    }
   ],
   "source": [
    "immigr_filepath = '../QGIS/database/immigrés italiens CDF 1850.shp'\n",
    "immigres = gpd.read_file(immigr_filepath)\n",
    "immigres.head()\n"
   ]
  },
  {
   "cell_type": "code",
   "execution_count": 14,
   "id": "280affae",
   "metadata": {},
   "outputs": [
    {
     "name": "stdout",
     "output_type": "stream",
     "text": [
      "327\n"
     ]
    },
    {
     "data": {
      "text/html": [
       "<div>\n",
       "<style scoped>\n",
       "    .dataframe tbody tr th:only-of-type {\n",
       "        vertical-align: middle;\n",
       "    }\n",
       "\n",
       "    .dataframe tbody tr th {\n",
       "        vertical-align: top;\n",
       "    }\n",
       "\n",
       "    .dataframe thead th {\n",
       "        text-align: right;\n",
       "    }\n",
       "</style>\n",
       "<table border=\"1\" class=\"dataframe\">\n",
       "  <thead>\n",
       "    <tr style=\"text-align: right;\">\n",
       "      <th></th>\n",
       "      <th>partie_a</th>\n",
       "      <th>partie_b</th>\n",
       "      <th>nombre</th>\n",
       "      <th>original</th>\n",
       "    </tr>\n",
       "  </thead>\n",
       "  <tbody>\n",
       "    <tr>\n",
       "      <th>0</th>\n",
       "      <td>NaN</td>\n",
       "      <td>NaN</td>\n",
       "      <td>16</td>\n",
       "      <td>NaN</td>\n",
       "    </tr>\n",
       "    <tr>\n",
       "      <th>1</th>\n",
       "      <td>Bärtschi</td>\n",
       "      <td>NaN</td>\n",
       "      <td>13</td>\n",
       "      <td>Bärtschi</td>\n",
       "    </tr>\n",
       "    <tr>\n",
       "      <th>2</th>\n",
       "      <td>Müller</td>\n",
       "      <td>NaN</td>\n",
       "      <td>13</td>\n",
       "      <td>Müller</td>\n",
       "    </tr>\n",
       "    <tr>\n",
       "      <th>3</th>\n",
       "      <td>NaN</td>\n",
       "      <td>Combe 25</td>\n",
       "      <td>12</td>\n",
       "      <td>Combe 25</td>\n",
       "    </tr>\n",
       "    <tr>\n",
       "      <th>4</th>\n",
       "      <td>NaN</td>\n",
       "      <td>Arsenal 10</td>\n",
       "      <td>9</td>\n",
       "      <td>Arsenal 10</td>\n",
       "    </tr>\n",
       "  </tbody>\n",
       "</table>\n",
       "</div>"
      ],
      "text/plain": [
       "   partie_a    partie_b  nombre    original\n",
       "0       NaN         NaN      16         NaN\n",
       "1  Bärtschi         NaN      13    Bärtschi\n",
       "2    Müller         NaN      13      Müller\n",
       "3       NaN    Combe 25      12    Combe 25\n",
       "4       NaN  Arsenal 10       9  Arsenal 10"
      ]
     },
     "execution_count": 14,
     "metadata": {},
     "output_type": "execute_result"
    }
   ],
   "source": [
    "adresses_liste_filepath = '../data_export/liste_adresse_final.xlsx'\n",
    "adresses_liste = pd.read_excel(adresses_liste_filepath)\n",
    "print(len(adresses_liste))\n",
    "adresses_liste.head()"
   ]
  },
  {
   "cell_type": "markdown",
   "id": "a4ab4857",
   "metadata": {},
   "source": []
  },
  {
   "cell_type": "code",
   "execution_count": null,
   "id": "8074e342",
   "metadata": {},
   "outputs": [],
   "source": []
  }
 ],
 "metadata": {
  "kernelspec": {
   "display_name": "py311_data_analysis",
   "language": "python",
   "name": "py311_data_analysis"
  },
  "language_info": {
   "codemirror_mode": {
    "name": "ipython",
    "version": 3
   },
   "file_extension": ".py",
   "mimetype": "text/x-python",
   "name": "python",
   "nbconvert_exporter": "python",
   "pygments_lexer": "ipython3",
   "version": "3.11.8"
  }
 },
 "nbformat": 4,
 "nbformat_minor": 5
}
