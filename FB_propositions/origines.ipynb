{
 "cells": [
  {
   "cell_type": "code",
   "execution_count": 2,
   "id": "f187da0a",
   "metadata": {},
   "outputs": [],
   "source": [
    "import pandas as pd\n",
    "import geopandas as gpd\n",
    "import sqlite3 as sql"
   ]
  },
  {
   "cell_type": "code",
   "execution_count": null,
   "id": "04345a2a",
   "metadata": {},
   "outputs": [],
   "source": []
  },
  {
   "cell_type": "code",
   "execution_count": 3,
   "id": "4a279b71",
   "metadata": {},
   "outputs": [],
   "source": [
    "# DB file\n",
    "db_file = '../sqlite_immigration_italienne.sqlite'\n",
    "\n",
    "# create a connection\n",
    "cn = sql.connect(db_file)\n"
   ]
  },
  {
   "cell_type": "code",
   "execution_count": 7,
   "id": "4d0983d7",
   "metadata": {},
   "outputs": [],
   "source": [
    "query=\"\"\"\n",
    "SELECT DISTINCT vp.pk_personne, vp.person, vp.periode, vp.classement_calcule, \n",
    "vo.region, vo.province, vo.nom_ville, vo.long, vo.lat\n",
    "FROM v_mention_domicile_metier_periode vp\n",
    "\tJOIN Mention m ON m.pk_personne = vp.pk_personne \n",
    "\tJOIN \"Ville origine\" vo ON m.fk_ville_origine = vo.pk_ville_origine\n",
    "WHERE long NOT NULL AND lat NOT NULL;\n",
    "\"\"\""
   ]
  },
  {
   "cell_type": "code",
   "execution_count": 8,
   "id": "a7622591",
   "metadata": {},
   "outputs": [],
   "source": [
    "# Create a cursor\n",
    "cur = cn.cursor()\n",
    "cur.execute(query)\n",
    "# La méthode 'fetchall' permet de récupérer toutes les lignes\n",
    "r = cur.fetchall()"
   ]
  },
  {
   "cell_type": "code",
   "execution_count": 9,
   "id": "9bd2ec80",
   "metadata": {},
   "outputs": [
    {
     "data": {
      "text/html": [
       "<div>\n",
       "<style scoped>\n",
       "    .dataframe tbody tr th:only-of-type {\n",
       "        vertical-align: middle;\n",
       "    }\n",
       "\n",
       "    .dataframe tbody tr th {\n",
       "        vertical-align: top;\n",
       "    }\n",
       "\n",
       "    .dataframe thead th {\n",
       "        text-align: right;\n",
       "    }\n",
       "</style>\n",
       "<table border=\"1\" class=\"dataframe\">\n",
       "  <thead>\n",
       "    <tr style=\"text-align: right;\">\n",
       "      <th></th>\n",
       "      <th>pk_personne</th>\n",
       "      <th>nom</th>\n",
       "      <th>periode</th>\n",
       "      <th>metier</th>\n",
       "      <th>region</th>\n",
       "      <th>province</th>\n",
       "      <th>ville</th>\n",
       "      <th>long</th>\n",
       "      <th>lat</th>\n",
       "    </tr>\n",
       "  </thead>\n",
       "  <tbody>\n",
       "    <tr>\n",
       "      <th>374</th>\n",
       "      <td>416</td>\n",
       "      <td>Bonaccio Serafino</td>\n",
       "      <td>1861_1870</td>\n",
       "      <td>entreprise de construction</td>\n",
       "      <td>Piemonte</td>\n",
       "      <td>Vercelli</td>\n",
       "      <td>Borgosesia</td>\n",
       "      <td>45.7186</td>\n",
       "      <td>8.2768</td>\n",
       "    </tr>\n",
       "    <tr>\n",
       "      <th>375</th>\n",
       "      <td>417</td>\n",
       "      <td>Bonardo Lorenzo</td>\n",
       "      <td>1861_1870</td>\n",
       "      <td>entreprise de construction</td>\n",
       "      <td>Piemonte</td>\n",
       "      <td>Biella</td>\n",
       "      <td>Cossato</td>\n",
       "      <td>45.5612</td>\n",
       "      <td>8.1862</td>\n",
       "    </tr>\n",
       "    <tr>\n",
       "      <th>376</th>\n",
       "      <td>418</td>\n",
       "      <td>Ravelli Pietro</td>\n",
       "      <td>1861_1870</td>\n",
       "      <td>entreprise de construction</td>\n",
       "      <td>Piemonte</td>\n",
       "      <td>Verbano-Cusio-Ossola</td>\n",
       "      <td>Albogno</td>\n",
       "      <td>46.1396</td>\n",
       "      <td>8.4209</td>\n",
       "    </tr>\n",
       "    <tr>\n",
       "      <th>377</th>\n",
       "      <td>420</td>\n",
       "      <td>Naula Pierre</td>\n",
       "      <td>1861_1870</td>\n",
       "      <td>entreprise de construction</td>\n",
       "      <td>Piemonte</td>\n",
       "      <td>Vercelli</td>\n",
       "      <td>Vintebbio</td>\n",
       "      <td>45.6673</td>\n",
       "      <td>8.3324</td>\n",
       "    </tr>\n",
       "    <tr>\n",
       "      <th>378</th>\n",
       "      <td>421</td>\n",
       "      <td>Tirozzi Omobono</td>\n",
       "      <td>1861_1870</td>\n",
       "      <td>atelier artisanal</td>\n",
       "      <td>Piemonte</td>\n",
       "      <td>Verbano-Cusio-Ossola</td>\n",
       "      <td>Trasquera</td>\n",
       "      <td>46.2131</td>\n",
       "      <td>8.2137</td>\n",
       "    </tr>\n",
       "  </tbody>\n",
       "</table>\n",
       "</div>"
      ],
      "text/plain": [
       "     pk_personne                nom    periode                      metier  \\\n",
       "374          416  Bonaccio Serafino  1861_1870  entreprise de construction   \n",
       "375          417    Bonardo Lorenzo  1861_1870  entreprise de construction   \n",
       "376          418     Ravelli Pietro  1861_1870  entreprise de construction   \n",
       "377          420       Naula Pierre  1861_1870  entreprise de construction   \n",
       "378          421    Tirozzi Omobono  1861_1870          atelier artisanal    \n",
       "\n",
       "       region              province       ville     long     lat  \n",
       "374  Piemonte              Vercelli  Borgosesia  45.7186  8.2768  \n",
       "375  Piemonte                Biella     Cossato  45.5612  8.1862  \n",
       "376  Piemonte  Verbano-Cusio-Ossola     Albogno  46.1396  8.4209  \n",
       "377  Piemonte              Vercelli   Vintebbio  45.6673  8.3324  \n",
       "378  Piemonte  Verbano-Cusio-Ossola   Trasquera  46.2131  8.2137  "
      ]
     },
     "execution_count": 9,
     "metadata": {},
     "output_type": "execute_result"
    }
   ],
   "source": [
    "personnes = pd.DataFrame(r)\n",
    "personnes.columns=['pk_personne', 'nom', 'periode', 'metier', 'region', 'province', \n",
    "                   'ville', 'long', 'lat']\n",
    "personnes.tail()"
   ]
  },
  {
   "cell_type": "code",
   "execution_count": null,
   "id": "2b7530cb",
   "metadata": {},
   "outputs": [],
   "source": []
  },
  {
   "cell_type": "code",
   "execution_count": null,
   "id": "a4041710",
   "metadata": {},
   "outputs": [],
   "source": []
  },
  {
   "cell_type": "code",
   "execution_count": null,
   "id": "3c1d4205",
   "metadata": {},
   "outputs": [],
   "source": []
  }
 ],
 "metadata": {
  "kernelspec": {
   "display_name": "py311_data_analysis",
   "language": "python",
   "name": "py311_data_analysis"
  },
  "language_info": {
   "codemirror_mode": {
    "name": "ipython",
    "version": 3
   },
   "file_extension": ".py",
   "mimetype": "text/x-python",
   "name": "python",
   "nbconvert_exporter": "python",
   "pygments_lexer": "ipython3",
   "version": "3.11.8"
  }
 },
 "nbformat": 4,
 "nbformat_minor": 5
}
